{
 "cells": [
  {
   "cell_type": "code",
   "execution_count": 1,
   "metadata": {},
   "outputs": [],
   "source": [
    "#Import packages\n",
    "from pandas import read_csv\n",
    "import sklearn\n",
    "from sklearn.svm import SVC\n",
    "from sklearn.linear_model import LogisticRegression, LinearRegression\n",
    "import numpy as np\n",
    "import pandas as pd\n",
    "from sklearn.model_selection import train_test_split\n",
    "import seaborn as sb\n",
    "import matplotlib.pyplot as plt"
   ]
  },
  {
   "cell_type": "code",
   "execution_count": 2,
   "metadata": {},
   "outputs": [
    {
     "name": "stdout",
     "output_type": "stream",
     "text": [
      "[[82.  75.   nan ... 30.  29.9  0.1]\n",
      " [84.  76.1 75.  ... 30.  29.9  0.1]\n",
      " [86.  76.  76.1 ... 30.  29.9  0.1]\n",
      " ...\n",
      " [88.  79.1 79.7 ... 29.9 29.8  0. ]\n",
      " [88.  80.3 79.1 ... 29.9 29.8  0. ]\n",
      " [88.  80.  80.3 ... 29.9 29.8  0. ]]\n"
     ]
    }
   ],
   "source": [
    "#Load dataset\n",
    "dataframe = read_csv(\"Desktop/newweather.csv\").set_index('Date')\n",
    "dataset = dataframe.values\n",
    "print(dataset)"
   ]
  },
  {
   "cell_type": "code",
   "execution_count": 3,
   "metadata": {},
   "outputs": [
    {
     "data": {
      "text/html": [
       "<div>\n",
       "<style scoped>\n",
       "    .dataframe tbody tr th:only-of-type {\n",
       "        vertical-align: middle;\n",
       "    }\n",
       "\n",
       "    .dataframe tbody tr th {\n",
       "        vertical-align: top;\n",
       "    }\n",
       "\n",
       "    .dataframe thead th {\n",
       "        text-align: right;\n",
       "    }\n",
       "</style>\n",
       "<table border=\"1\" class=\"dataframe\">\n",
       "  <thead>\n",
       "    <tr style=\"text-align: right;\">\n",
       "      <th></th>\n",
       "      <th>Avgtemp</th>\n",
       "    </tr>\n",
       "  </thead>\n",
       "  <tbody>\n",
       "    <tr>\n",
       "      <td>Maxpre</td>\n",
       "      <td>-0.801171</td>\n",
       "    </tr>\n",
       "    <tr>\n",
       "      <td>Avgpre</td>\n",
       "      <td>-0.748189</td>\n",
       "    </tr>\n",
       "    <tr>\n",
       "      <td>Maxhum</td>\n",
       "      <td>-0.700610</td>\n",
       "    </tr>\n",
       "    <tr>\n",
       "      <td>Avghum</td>\n",
       "      <td>-0.659254</td>\n",
       "    </tr>\n",
       "    <tr>\n",
       "      <td>Minhum</td>\n",
       "      <td>-0.587137</td>\n",
       "    </tr>\n",
       "    <tr>\n",
       "      <td>Precep</td>\n",
       "      <td>-0.068783</td>\n",
       "    </tr>\n",
       "    <tr>\n",
       "      <td>Minpre</td>\n",
       "      <td>-0.060489</td>\n",
       "    </tr>\n",
       "    <tr>\n",
       "      <td>Maxws</td>\n",
       "      <td>0.236944</td>\n",
       "    </tr>\n",
       "    <tr>\n",
       "      <td>Mindewp</td>\n",
       "      <td>0.281417</td>\n",
       "    </tr>\n",
       "    <tr>\n",
       "      <td>Avgdewp</td>\n",
       "      <td>0.600945</td>\n",
       "    </tr>\n",
       "    <tr>\n",
       "      <td>Minws</td>\n",
       "      <td>0.711941</td>\n",
       "    </tr>\n",
       "    <tr>\n",
       "      <td>Maxdewp</td>\n",
       "      <td>0.741565</td>\n",
       "    </tr>\n",
       "    <tr>\n",
       "      <td>Avgws</td>\n",
       "      <td>0.750084</td>\n",
       "    </tr>\n",
       "    <tr>\n",
       "      <td>Avgtemp2</td>\n",
       "      <td>0.929818</td>\n",
       "    </tr>\n",
       "    <tr>\n",
       "      <td>Mintemp</td>\n",
       "      <td>0.946135</td>\n",
       "    </tr>\n",
       "    <tr>\n",
       "      <td>Maxtemp</td>\n",
       "      <td>0.946908</td>\n",
       "    </tr>\n",
       "    <tr>\n",
       "      <td>Avgtemp1</td>\n",
       "      <td>0.957016</td>\n",
       "    </tr>\n",
       "    <tr>\n",
       "      <td>Avgtemp</td>\n",
       "      <td>1.000000</td>\n",
       "    </tr>\n",
       "  </tbody>\n",
       "</table>\n",
       "</div>"
      ],
      "text/plain": [
       "           Avgtemp\n",
       "Maxpre   -0.801171\n",
       "Avgpre   -0.748189\n",
       "Maxhum   -0.700610\n",
       "Avghum   -0.659254\n",
       "Minhum   -0.587137\n",
       "Precep   -0.068783\n",
       "Minpre   -0.060489\n",
       "Maxws     0.236944\n",
       "Mindewp   0.281417\n",
       "Avgdewp   0.600945\n",
       "Minws     0.711941\n",
       "Maxdewp   0.741565\n",
       "Avgws     0.750084\n",
       "Avgtemp2  0.929818\n",
       "Mintemp   0.946135\n",
       "Maxtemp   0.946908\n",
       "Avgtemp1  0.957016\n",
       "Avgtemp   1.000000"
      ]
     },
     "execution_count": 3,
     "metadata": {},
     "output_type": "execute_result"
    }
   ],
   "source": [
    "feature='Avgtemp'\n",
    "\n",
    "#correlation\n",
    "dataframe.corr(method='pearson')[['Avgtemp']].sort_values('Avgtemp')"
   ]
  },
  {
   "cell_type": "code",
   "execution_count": 4,
   "metadata": {},
   "outputs": [
    {
     "data": {
      "text/html": [
       "<div>\n",
       "<style scoped>\n",
       "    .dataframe tbody tr th:only-of-type {\n",
       "        vertical-align: middle;\n",
       "    }\n",
       "\n",
       "    .dataframe tbody tr th {\n",
       "        vertical-align: top;\n",
       "    }\n",
       "\n",
       "    .dataframe thead th {\n",
       "        text-align: right;\n",
       "    }\n",
       "</style>\n",
       "<table border=\"1\" class=\"dataframe\">\n",
       "  <thead>\n",
       "    <tr style=\"text-align: right;\">\n",
       "      <th></th>\n",
       "      <th>Avgtemp</th>\n",
       "      <th>Minws</th>\n",
       "      <th>Maxdewp</th>\n",
       "      <th>Avgws</th>\n",
       "      <th>Avgtemp1</th>\n",
       "      <th>Avgtemp2</th>\n",
       "    </tr>\n",
       "    <tr>\n",
       "      <th>Date</th>\n",
       "      <th></th>\n",
       "      <th></th>\n",
       "      <th></th>\n",
       "      <th></th>\n",
       "      <th></th>\n",
       "      <th></th>\n",
       "    </tr>\n",
       "  </thead>\n",
       "  <tbody>\n",
       "    <tr>\n",
       "      <td>2019-01-03</td>\n",
       "      <td>76.0</td>\n",
       "      <td>0</td>\n",
       "      <td>68</td>\n",
       "      <td>5.8</td>\n",
       "      <td>76.1</td>\n",
       "      <td>75.0</td>\n",
       "    </tr>\n",
       "    <tr>\n",
       "      <td>2019-01-04</td>\n",
       "      <td>76.5</td>\n",
       "      <td>0</td>\n",
       "      <td>72</td>\n",
       "      <td>5.8</td>\n",
       "      <td>76.0</td>\n",
       "      <td>76.1</td>\n",
       "    </tr>\n",
       "    <tr>\n",
       "      <td>2019-01-05</td>\n",
       "      <td>76.5</td>\n",
       "      <td>0</td>\n",
       "      <td>70</td>\n",
       "      <td>4.8</td>\n",
       "      <td>76.5</td>\n",
       "      <td>76.0</td>\n",
       "    </tr>\n",
       "    <tr>\n",
       "      <td>2019-01-06</td>\n",
       "      <td>77.0</td>\n",
       "      <td>0</td>\n",
       "      <td>70</td>\n",
       "      <td>4.4</td>\n",
       "      <td>76.5</td>\n",
       "      <td>76.5</td>\n",
       "    </tr>\n",
       "    <tr>\n",
       "      <td>2019-01-07</td>\n",
       "      <td>76.8</td>\n",
       "      <td>0</td>\n",
       "      <td>70</td>\n",
       "      <td>4.8</td>\n",
       "      <td>77.0</td>\n",
       "      <td>76.5</td>\n",
       "    </tr>\n",
       "    <tr>\n",
       "      <td>...</td>\n",
       "      <td>...</td>\n",
       "      <td>...</td>\n",
       "      <td>...</td>\n",
       "      <td>...</td>\n",
       "      <td>...</td>\n",
       "      <td>...</td>\n",
       "    </tr>\n",
       "    <tr>\n",
       "      <td>2020-02-16</td>\n",
       "      <td>79.6</td>\n",
       "      <td>0</td>\n",
       "      <td>68</td>\n",
       "      <td>5.6</td>\n",
       "      <td>79.9</td>\n",
       "      <td>80.1</td>\n",
       "    </tr>\n",
       "    <tr>\n",
       "      <td>2020-02-17</td>\n",
       "      <td>79.7</td>\n",
       "      <td>0</td>\n",
       "      <td>68</td>\n",
       "      <td>4.8</td>\n",
       "      <td>79.6</td>\n",
       "      <td>79.9</td>\n",
       "    </tr>\n",
       "    <tr>\n",
       "      <td>2020-02-18</td>\n",
       "      <td>79.1</td>\n",
       "      <td>0</td>\n",
       "      <td>68</td>\n",
       "      <td>4.5</td>\n",
       "      <td>79.7</td>\n",
       "      <td>79.6</td>\n",
       "    </tr>\n",
       "    <tr>\n",
       "      <td>2020-02-19</td>\n",
       "      <td>80.3</td>\n",
       "      <td>0</td>\n",
       "      <td>72</td>\n",
       "      <td>7.1</td>\n",
       "      <td>79.1</td>\n",
       "      <td>79.7</td>\n",
       "    </tr>\n",
       "    <tr>\n",
       "      <td>2020-02-20</td>\n",
       "      <td>80.0</td>\n",
       "      <td>0</td>\n",
       "      <td>70</td>\n",
       "      <td>5.7</td>\n",
       "      <td>80.3</td>\n",
       "      <td>79.1</td>\n",
       "    </tr>\n",
       "  </tbody>\n",
       "</table>\n",
       "<p>414 rows × 6 columns</p>\n",
       "</div>"
      ],
      "text/plain": [
       "            Avgtemp  Minws  Maxdewp  Avgws  Avgtemp1  Avgtemp2\n",
       "Date                                                          \n",
       "2019-01-03     76.0      0       68    5.8      76.1      75.0\n",
       "2019-01-04     76.5      0       72    5.8      76.0      76.1\n",
       "2019-01-05     76.5      0       70    4.8      76.5      76.0\n",
       "2019-01-06     77.0      0       70    4.4      76.5      76.5\n",
       "2019-01-07     76.8      0       70    4.8      77.0      76.5\n",
       "...             ...    ...      ...    ...       ...       ...\n",
       "2020-02-16     79.6      0       68    5.6      79.9      80.1\n",
       "2020-02-17     79.7      0       68    4.8      79.6      79.9\n",
       "2020-02-18     79.1      0       68    4.5      79.7      79.6\n",
       "2020-02-19     80.3      0       72    7.1      79.1      79.7\n",
       "2020-02-20     80.0      0       70    5.7      80.3      79.1\n",
       "\n",
       "[414 rows x 6 columns]"
      ]
     },
     "execution_count": 4,
     "metadata": {},
     "output_type": "execute_result"
    }
   ],
   "source": [
    "#select prediction features\n",
    "predictors=['Minws','Maxdewp','Avgws','Avgtemp1','Avgtemp2']\n",
    "\n",
    "#remove first two rows since they contain NULL value\n",
    "df2 = dataframe[['Avgtemp'] + predictors]\n",
    "df2.index[0]\n",
    "df1=df2.drop(df2.index[0])\n",
    "df1.index[0]\n",
    "df1=df1.drop(df1.index[0])\n",
    "df1"
   ]
  },
  {
   "cell_type": "code",
   "execution_count": 5,
   "metadata": {},
   "outputs": [
    {
     "data": {
      "image/png": "[encoded data removed]",
      "text/plain": [
       "<Figure size 432x288 with 1 Axes>"
      ]
     },
     "metadata": {
      "needs_background": "light"
     },
     "output_type": "display_data"
    },
    {
     "data": {
      "image/png": "[encoded data removed]",
      "text/plain": [
       "<Figure size 432x288 with 1 Axes>"
      ]
     },
     "metadata": {
      "needs_background": "light"
     },
     "output_type": "display_data"
    },
    {
     "data": {
      "image/png": "[encoded data removed]",
      "text/plain": [
       "<Figure size 432x288 with 1 Axes>"
      ]
     },
     "metadata": {
      "needs_background": "light"
     },
     "output_type": "display_data"
    },
    {
     "data": {
      "image/png": "[encoded data removed]",
      "text/plain": [
       "<Figure size 432x288 with 1 Axes>"
      ]
     },
     "metadata": {
      "needs_background": "light"
     },
     "output_type": "display_data"
    },
    {
     "data": {
      "image/png": "[encoded data removed]",
      "text/plain": [
       "<Figure size 432x288 with 1 Axes>"
      ]
     },
     "metadata": {
      "needs_background": "light"
     },
     "output_type": "display_data"
    }
   ],
   "source": [
    "#scatterplot\n",
    "plt.scatter(df1['Avgtemp'],df1['Minws'])\n",
    "plt.show()\n",
    "plt.scatter(df1['Avgtemp'],df1['Maxdewp'])\n",
    "plt.show()\n",
    "plt.scatter(df1['Avgtemp'],df1['Avgws'])\n",
    "plt.show()\n",
    "plt.scatter(df1['Avgtemp'],df1['Avgtemp1'])\n",
    "plt.show()\n",
    "plt.scatter(df1['Avgtemp'],df1['Avgtemp2'])\n",
    "plt.show()"
   ]
  },
  {
   "cell_type": "code",
   "execution_count": 6,
   "metadata": {},
   "outputs": [],
   "source": [
    "#train and test set\n",
    "X=df1[predictors]\n",
    "y=df1['Avgtemp']\n",
    "\n",
    "# construct the training and testing split by taking 75% of the data for training and 25% for testing\n",
    "(trainData, testData, trainLabels, testLabels) = train_test_split(X, y, test_size=0.25, random_state=42)"
   ]
  },
  {
   "cell_type": "code",
   "execution_count": 7,
   "metadata": {},
   "outputs": [],
   "source": [
    "#linear regression model\n",
    "regressor=LinearRegression()\n",
    "regressor.fit(trainData,trainLabels)\n",
    "prediction=regressor.predict(testData)"
   ]
  },
  {
   "cell_type": "code",
   "execution_count": 8,
   "metadata": {},
   "outputs": [
    {
     "data": {
      "text/plain": [
       "0.9472110976724653"
      ]
     },
     "execution_count": 8,
     "metadata": {},
     "output_type": "execute_result"
    }
   ],
   "source": [
    "#accuracy score\n",
    "acc=regressor.score(testData,testLabels)\n",
    "acc"
   ]
  }
 ],
 "metadata": {
  "kernelspec": {
   "display_name": "Python 3",
   "language": "python",
   "name": "python3"
  },
  "language_info": {
   "codemirror_mode": {
    "name": "ipython",
    "version": 3
   },
   "file_extension": ".py",
   "mimetype": "text/x-python",
   "name": "python",
   "nbconvert_exporter": "python",
   "pygments_lexer": "ipython3",
   "version": "3.7.4"
  }
 },
 "nbformat": 4,
 "nbformat_minor": 2
}
