{
 "cells": [
  {
   "cell_type": "code",
   "execution_count": 1,
   "metadata": {},
   "outputs": [],
   "source": [
    "from pandas import read_csv\n",
    "import sklearn\n",
    "from sklearn.svm import SVC\n",
    "from sklearn.linear_model import LogisticRegression, LinearRegression\n",
    "import numpy as np\n",
    "import pandas as pd\n",
    "from sklearn.model_selection import train_test_split\n",
    "from sklearn.metrics import accuracy_score,confusion_matrix, classification_report\n",
    "import seaborn as sb\n",
    "import matplotlib.pyplot as plt"
   ]
  },
  {
   "cell_type": "code",
   "execution_count": 2,
   "metadata": {},
   "outputs": [],
   "source": [
    "if int((sklearn.__version__).split(\".\")[1]) < 18:\n",
    "\tfrom sklearn.cross_validation import train_test_split\n",
    "\n",
    "# otherwise we're using at lease version 0.18\n",
    "else:\n",
    "\tfrom sklearn.model_selection import train_test_split"
   ]
  },
  {
   "cell_type": "code",
   "execution_count": 3,
   "metadata": {},
   "outputs": [
    {
     "name": "stdout",
     "output_type": "stream",
     "text": [
      "[[82.  75.  66.  ... 30.  29.9  0.1]\n",
      " [84.  76.1 68.  ... 30.  29.9  0.1]\n",
      " [86.  76.  68.  ... 30.  29.9  0.1]\n",
      " ...\n",
      " [88.  79.1 70.  ... 29.9 29.8  0. ]\n",
      " [88.  80.3 72.  ... 29.9 29.8  0. ]\n",
      " [88.  80.  73.  ... 29.9 29.8  0. ]]\n"
     ]
    }
   ],
   "source": [
    "# load dataset\n",
    "dataframe = read_csv(\"Desktop/newweather.csv\").set_index('Date')\n",
    "dataset = dataframe.values\n",
    "print(dataset)"
   ]
  },
  {
   "cell_type": "code",
   "execution_count": 4,
   "metadata": {},
   "outputs": [],
   "source": [
    "tmp = dataset[0:10,[2,5]]\n",
    "feature='Avgtemp'\n",
    "\n",
    "predictors=['Minws','Maxdewp','Avgws']"
   ]
  },
  {
   "cell_type": "code",
   "execution_count": 5,
   "metadata": {},
   "outputs": [
    {
     "data": {
      "text/html": [
       "<div>\n",
       "<style scoped>\n",
       "    .dataframe tbody tr th:only-of-type {\n",
       "        vertical-align: middle;\n",
       "    }\n",
       "\n",
       "    .dataframe tbody tr th {\n",
       "        vertical-align: top;\n",
       "    }\n",
       "\n",
       "    .dataframe thead th {\n",
       "        text-align: right;\n",
       "    }\n",
       "</style>\n",
       "<table border=\"1\" class=\"dataframe\">\n",
       "  <thead>\n",
       "    <tr style=\"text-align: right;\">\n",
       "      <th></th>\n",
       "      <th>Avgtemp</th>\n",
       "      <th>Minws</th>\n",
       "      <th>Maxdewp</th>\n",
       "      <th>Avgws</th>\n",
       "    </tr>\n",
       "    <tr>\n",
       "      <th>Date</th>\n",
       "      <th></th>\n",
       "      <th></th>\n",
       "      <th></th>\n",
       "      <th></th>\n",
       "    </tr>\n",
       "  </thead>\n",
       "  <tbody>\n",
       "    <tr>\n",
       "      <td>2019-01-01</td>\n",
       "      <td>75.0</td>\n",
       "      <td>0</td>\n",
       "      <td>64</td>\n",
       "      <td>6.3</td>\n",
       "    </tr>\n",
       "    <tr>\n",
       "      <td>2019-01-02</td>\n",
       "      <td>76.1</td>\n",
       "      <td>0</td>\n",
       "      <td>68</td>\n",
       "      <td>4.9</td>\n",
       "    </tr>\n",
       "    <tr>\n",
       "      <td>2019-01-03</td>\n",
       "      <td>76.0</td>\n",
       "      <td>0</td>\n",
       "      <td>68</td>\n",
       "      <td>5.8</td>\n",
       "    </tr>\n",
       "    <tr>\n",
       "      <td>2019-01-04</td>\n",
       "      <td>76.5</td>\n",
       "      <td>0</td>\n",
       "      <td>72</td>\n",
       "      <td>5.8</td>\n",
       "    </tr>\n",
       "    <tr>\n",
       "      <td>2019-01-05</td>\n",
       "      <td>76.5</td>\n",
       "      <td>0</td>\n",
       "      <td>70</td>\n",
       "      <td>4.8</td>\n",
       "    </tr>\n",
       "    <tr>\n",
       "      <td>...</td>\n",
       "      <td>...</td>\n",
       "      <td>...</td>\n",
       "      <td>...</td>\n",
       "      <td>...</td>\n",
       "    </tr>\n",
       "    <tr>\n",
       "      <td>2020-02-16</td>\n",
       "      <td>79.6</td>\n",
       "      <td>0</td>\n",
       "      <td>68</td>\n",
       "      <td>5.6</td>\n",
       "    </tr>\n",
       "    <tr>\n",
       "      <td>2020-02-17</td>\n",
       "      <td>79.7</td>\n",
       "      <td>0</td>\n",
       "      <td>68</td>\n",
       "      <td>4.8</td>\n",
       "    </tr>\n",
       "    <tr>\n",
       "      <td>2020-02-18</td>\n",
       "      <td>79.1</td>\n",
       "      <td>0</td>\n",
       "      <td>68</td>\n",
       "      <td>4.5</td>\n",
       "    </tr>\n",
       "    <tr>\n",
       "      <td>2020-02-19</td>\n",
       "      <td>80.3</td>\n",
       "      <td>0</td>\n",
       "      <td>72</td>\n",
       "      <td>7.1</td>\n",
       "    </tr>\n",
       "    <tr>\n",
       "      <td>2020-02-20</td>\n",
       "      <td>80.0</td>\n",
       "      <td>0</td>\n",
       "      <td>70</td>\n",
       "      <td>5.7</td>\n",
       "    </tr>\n",
       "  </tbody>\n",
       "</table>\n",
       "<p>416 rows × 4 columns</p>\n",
       "</div>"
      ],
      "text/plain": [
       "            Avgtemp  Minws  Maxdewp  Avgws\n",
       "Date                                      \n",
       "2019-01-01     75.0      0       64    6.3\n",
       "2019-01-02     76.1      0       68    4.9\n",
       "2019-01-03     76.0      0       68    5.8\n",
       "2019-01-04     76.5      0       72    5.8\n",
       "2019-01-05     76.5      0       70    4.8\n",
       "...             ...    ...      ...    ...\n",
       "2020-02-16     79.6      0       68    5.6\n",
       "2020-02-17     79.7      0       68    4.8\n",
       "2020-02-18     79.1      0       68    4.5\n",
       "2020-02-19     80.3      0       72    7.1\n",
       "2020-02-20     80.0      0       70    5.7\n",
       "\n",
       "[416 rows x 4 columns]"
      ]
     },
     "execution_count": 5,
     "metadata": {},
     "output_type": "execute_result"
    }
   ],
   "source": [
    "df2 = dataframe[['Avgtemp'] + predictors]\n",
    "df2"
   ]
  },
  {
   "cell_type": "code",
   "execution_count": 6,
   "metadata": {},
   "outputs": [
    {
     "data": {
      "text/plain": [
       "<matplotlib.axes._subplots.AxesSubplot at 0x127c17510>"
      ]
     },
     "execution_count": 6,
     "metadata": {},
     "output_type": "execute_result"
    },
    {
     "data": {
      "image/png": "[encoded data removed]",
      "text/plain": [
       "<Figure size 432x288 with 1 Axes>"
      ]
     },
     "metadata": {},
     "output_type": "display_data"
    }
   ],
   "source": [
    "sb.set()\n",
    "sb.lineplot(df2['Avgtemp'],df2['Avgws'])"
   ]
  },
  {
   "cell_type": "code",
   "execution_count": 10,
   "metadata": {},
   "outputs": [],
   "source": [
    "#train and test\n",
    "X=df2[predictors]\n",
    "y=df2['Avgtemp']"
   ]
  },
  {
   "cell_type": "code",
   "execution_count": 11,
   "metadata": {},
   "outputs": [],
   "source": [
    "# construct the training and testing split by taking 75% of the data for training\n",
    "# and 25% for testing\n",
    "\n",
    "(trainData, testData, trainLabels, testLabels) = train_test_split(X, y, test_size=0.25, random_state=42)\n"
   ]
  },
  {
   "cell_type": "code",
   "execution_count": 12,
   "metadata": {},
   "outputs": [],
   "source": [
    "#linear regression model\n",
    "regressor=LinearRegression()\n",
    "regressor.fit(trainData,trainLabels)\n",
    "prediction=regressor.predict(testData)"
   ]
  },
  {
   "cell_type": "code",
   "execution_count": 13,
   "metadata": {},
   "outputs": [
    {
     "data": {
      "text/plain": [
       "0.7812025167617667"
      ]
     },
     "execution_count": 13,
     "metadata": {},
     "output_type": "execute_result"
    }
   ],
   "source": [
    "#accuracy score\n",
    "acc=regressor.score(testData,testLabels)\n",
    "acc"
   ]
  },
  {
   "cell_type": "code",
   "execution_count": null,
   "metadata": {},
   "outputs": [],
   "source": []
  }
 ],
 "metadata": {
  "kernelspec": {
   "display_name": "Python 3",
   "language": "python",
   "name": "python3"
  },
  "language_info": {
   "codemirror_mode": {
    "name": "ipython",
    "version": 3
   },
   "file_extension": ".py",
   "mimetype": "text/x-python",
   "name": "python",
   "nbconvert_exporter": "python",
   "pygments_lexer": "ipython3",
   "version": "3.7.4"
  }
 },
 "nbformat": 4,
 "nbformat_minor": 2
}
